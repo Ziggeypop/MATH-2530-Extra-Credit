{
 "cells": [
  {
   "cell_type": "markdown",
   "id": "a066d7ea",
   "metadata": {},
   "source": [
    "For this analysis I am using tornado data for Ohio from the National Ocean and Atmospheric Administration (NOAA) at https://www.ncdc.noaa.gov/stormevents/choosedates.jsp?statefips=39%2COHIO. I filtered the data on the website to only include data from 2007 when they began to implement the EF scale for rating tornadoes. I will attach the original csv data in my submission. Also, here is the website for the file detailing the columns and their units: https://www.ncei.noaa.gov/pub/data/swdi/stormevents/csvfiles/Storm-Data-Bulk-csv-Format.pdf.\n",
    "\n",
    "Some questions I will answer include:\n",
    "    1. What is the most common rating of tornadoes in Ohio?\n",
    "    2. What counties have experienced the most tornadoess?\n",
    "    3. Is there an upward or downward trend in tornadoes per year in Ohio?\n",
    "    4. How long do the tornadoes last on average for the state? Which counties experienced the longest tornadoes in terms of time?\n",
    "    5. What counties experienced tornadoes that traveled the longest? What’s the average tornado distance traveled for the state?\n",
    "    6. Is there a correlation between the width of the tornado and its time on the ground or between the length it traveled and its time on the ground?\n",
    "    7. Can k-nearest neighbor accurately predict EF rating based on duration, width, length, and property damage costs."
   ]
  },
  {
   "cell_type": "code",
   "execution_count": 1,
   "id": "80880458",
   "metadata": {},
   "outputs": [],
   "source": [
    "#importing all of the necessary things\n",
    "from datascience import *\n",
    "import numpy as np\n",
    "import datetime\n",
    "\n",
    "import matplotlib\n",
    "%matplotlib inline\n",
    "import matplotlib.pyplot as plt\n",
    "plt.style.use('fivethirtyeight')\n",
    "import warnings\n",
    "warnings.simplefilter('ignore', FutureWarning)"
   ]
  },
  {
   "cell_type": "code",
   "execution_count": 2,
   "id": "3085ca81",
   "metadata": {},
   "outputs": [],
   "source": [
    "tor_data = Table().read_table('storm_data_tornadoes.csv') #reading in the data I am going to use\n",
    "tor_data = tor_data.relabeled('TOR_F_SCALE', 'Tornado Rating') #relabeling the tornado rating column"
   ]
  },
  {
   "cell_type": "code",
   "execution_count": 3,
   "id": "49fed704",
   "metadata": {},
   "outputs": [
    {
     "data": {
      "text/plain": [
       "Text(0.5, 1.0, 'Tornado Rating Counts')"
      ]
     },
     "execution_count": 3,
     "metadata": {},
     "output_type": "execute_result"
    },
    {
     "data": {
      "image/png": "[encoded data removed]",
      "text/plain": [
       "<Figure size 600x400 with 1 Axes>"
      ]
     },
     "metadata": {},
     "output_type": "display_data"
    }
   ],
   "source": [
    "tor_data.group('Tornado Rating').relabeled('count', 'Count').bar('Tornado Rating') #getting counts for each tornado rating, relabeling the count column, and making a bar graph\n",
    "plt.title('Tornado Rating Counts') #grouping and displaying tornado ratings"
   ]
  },
  {
   "cell_type": "markdown",
   "id": "df1e77f0",
   "metadata": {},
   "source": [
    "Unsurprisingly, the most common rating of tornadoes in Ohio are EF0s with EF1s being the next most common."
   ]
  },
  {
   "cell_type": "code",
   "execution_count": 4,
   "id": "d0d8d6bb",
   "metadata": {},
   "outputs": [
    {
     "data": {
      "text/html": [
       "<table border=\"1\" class=\"dataframe\">\n",
       "    <thead>\n",
       "        <tr>\n",
       "            <th>Tornado Rating</th> <th>count</th>\n",
       "        </tr>\n",
       "    </thead>\n",
       "    <tbody>\n",
       "        <tr>\n",
       "            <td>EF0           </td> <td>269  </td>\n",
       "        </tr>\n",
       "        <tr>\n",
       "            <td>EF1           </td> <td>179  </td>\n",
       "        </tr>\n",
       "        <tr>\n",
       "            <td>EF2           </td> <td>36   </td>\n",
       "        </tr>\n",
       "        <tr>\n",
       "            <td>EF3           </td> <td>7    </td>\n",
       "        </tr>\n",
       "        <tr>\n",
       "            <td>EF4           </td> <td>2    </td>\n",
       "        </tr>\n",
       "        <tr>\n",
       "            <td>EFU           </td> <td>5    </td>\n",
       "        </tr>\n",
       "    </tbody>\n",
       "</table>"
      ],
      "text/plain": [
       "Tornado Rating | count\n",
       "EF0            | 269\n",
       "EF1            | 179\n",
       "EF2            | 36\n",
       "EF3            | 7\n",
       "EF4            | 2\n",
       "EFU            | 5"
      ]
     },
     "execution_count": 4,
     "metadata": {},
     "output_type": "execute_result"
    }
   ],
   "source": [
    "tor_data.group('Tornado Rating') #getting the table to see the actual counts for each rating"
   ]
  },
  {
   "cell_type": "code",
   "execution_count": 5,
   "id": "0b20d653",
   "metadata": {},
   "outputs": [
    {
     "data": {
      "text/html": [
       "<table border=\"1\" class=\"dataframe\">\n",
       "    <thead>\n",
       "        <tr>\n",
       "            <th>County</th> <th>count</th>\n",
       "        </tr>\n",
       "    </thead>\n",
       "    <tbody>\n",
       "        <tr>\n",
       "            <td>VAN WERT CO.</td> <td>21   </td>\n",
       "        </tr>\n",
       "        <tr>\n",
       "            <td>MIAMI CO.   </td> <td>18   </td>\n",
       "        </tr>\n",
       "        <tr>\n",
       "            <td>CLARK CO.   </td> <td>17   </td>\n",
       "        </tr>\n",
       "        <tr>\n",
       "            <td>DARKE CO.   </td> <td>14   </td>\n",
       "        </tr>\n",
       "        <tr>\n",
       "            <td>HURON CO.   </td> <td>14   </td>\n",
       "        </tr>\n",
       "    </tbody>\n",
       "</table>"
      ],
      "text/plain": [
       "County       | count\n",
       "VAN WERT CO. | 21\n",
       "MIAMI CO.    | 18\n",
       "CLARK CO.    | 17\n",
       "DARKE CO.    | 14\n",
       "HURON CO.    | 14"
      ]
     },
     "execution_count": 5,
     "metadata": {},
     "output_type": "execute_result"
    }
   ],
   "source": [
    "tor_data.group('CZ_NAME_STR').sort('count', descending=True).take(0,1,2,3,4).relabel('CZ_NAME_STR', 'County') #getting the top 5 counties with most tornadoes, relabeling to get better column names"
   ]
  },
  {
   "cell_type": "markdown",
   "id": "b1ecf25c",
   "metadata": {},
   "source": [
    "These are the top five counties that have had the most tornadoes since 2007."
   ]
  },
  {
   "cell_type": "code",
   "execution_count": 6,
   "id": "9c1f8b86",
   "metadata": {},
   "outputs": [],
   "source": [
    "#making dates work so I can make a line plot for each year's total count of tornadoes.\n",
    "date_column = tor_data.column('BEGIN_DATE')\n",
    "\n",
    "date_column = [datetime.datetime.strptime(d, '%m/%d/%Y') for d in date_column]\n",
    "\n",
    "day_column = [d.day for d in date_column]\n",
    "month_column = [d.month for d in date_column]\n",
    "year_column = [d.year for d in date_column]\n",
    "\n",
    "tor_data = tor_data.with_columns(\n",
    "    'Day', day_column,\n",
    "    'Month', month_column,\n",
    "    'Year', year_column)"
   ]
  },
  {
   "cell_type": "code",
   "execution_count": 7,
   "id": "44cb9484",
   "metadata": {
    "scrolled": true
   },
   "outputs": [
    {
     "data": {
      "text/plain": [
       "[<matplotlib.lines.Line2D at 0x17eb06090>]"
      ]
     },
     "execution_count": 7,
     "metadata": {},
     "output_type": "execute_result"
    },
    {
     "data": {
      "image/png": "[encoded data removed]",
      "text/plain": [
       "<Figure size 600x600 with 1 Axes>"
      ]
     },
     "metadata": {},
     "output_type": "display_data"
    }
   ],
   "source": [
    "#making the lineplot with total tornadoes each year and adding a best fit line\n",
    "tor_data.group('Year').relabel('count', 'Number of Tornadoes per Year'\n",
    "            ).plot('Year', 'Number of Tornadoes per Year')\n",
    "z = np.polyfit(tor_data.group('Year').column('Year'), tor_data.group('Year').column('count'), 1)\n",
    "p = np.poly1d(z)\n",
    "plt.plot(tor_data.group('Year').column('Year'), p(tor_data.group('Year').column('Year')))"
   ]
  },
  {
   "cell_type": "markdown",
   "id": "cd5fee40",
   "metadata": {},
   "source": [
    "There seems to be a slight upward trend in tornadoes in Ohio over the last 10-15 years with yearly fluctuations. However, this is a short period of data, less than the 30-year period that we tend to look at for climate, so this should be taken with a grain of salt."
   ]
  },
  {
   "cell_type": "code",
   "execution_count": 8,
   "id": "8efbce52",
   "metadata": {},
   "outputs": [
    {
     "data": {
      "text/html": [
       "<table border=\"1\" class=\"dataframe\">\n",
       "    <thead>\n",
       "        <tr>\n",
       "            <th>Tornado Rating</th> <th>ADAMS CO.</th> <th>ALLEN CO.</th> <th>ASHLAND CO.</th> <th>ASHTABULA CO.</th> <th>ATHENS CO.</th> <th>AUGLAIZE CO.</th> <th>BELMONT CO.</th> <th>BROWN CO.</th> <th>BUTLER CO.</th> <th>CARROLL CO.</th> <th>CHAMPAIGN CO.</th> <th>CLARK CO.</th> <th>CLERMONT CO.</th> <th>CLINTON CO.</th> <th>COLUMBIANA CO.</th> <th>CRAWFORD CO.</th> <th>CUYAHOGA CO.</th> <th>DARKE CO.</th> <th>DEFIANCE CO.</th> <th>DELAWARE CO.</th> <th>ERIE CO.</th> <th>FAIRFIELD CO.</th> <th>FAYETTE CO.</th> <th>FRANKLIN CO.</th> <th>FULTON CO.</th> <th>GEAUGA CO.</th> <th>GREENE CO.</th> <th>GUERNSEY CO.</th> <th>HAMILTON CO.</th> <th>HANCOCK CO.</th> <th>HARDIN CO.</th> <th>HARRISON CO.</th> <th>HENRY CO.</th> <th>HIGHLAND CO.</th> <th>HOCKING CO.</th> <th>HOLMES CO.</th> <th>HURON CO.</th> <th>JACKSON CO.</th> <th>JEFFERSON CO.</th> <th>KNOX CO.</th> <th>LAKE CO.</th> <th>LAWRENCE CO.</th> <th>LICKING CO.</th> <th>LORAIN CO.</th> <th>LUCAS CO.</th> <th>MADISON CO.</th> <th>MAHONING CO.</th> <th>MARION CO.</th> <th>MEDINA CO.</th> <th>MEIGS CO.</th> <th>MERCER CO.</th> <th>MIAMI CO.</th> <th>MONTGOMERY CO.</th> <th>MORGAN CO.</th> <th>MORROW CO.</th> <th>MUSKINGUM CO.</th> <th>OTTAWA CO.</th> <th>PAULDING CO.</th> <th>PERRY CO.</th> <th>PICKAWAY CO.</th> <th>PIKE CO.</th> <th>PORTAGE CO.</th> <th>PREBLE CO.</th> <th>PUTNAM CO.</th> <th>RICHLAND CO.</th> <th>ROSS CO.</th> <th>SANDUSKY CO.</th> <th>SCIOTO CO.</th> <th>SENECA CO.</th> <th>SHELBY CO.</th> <th>STARK CO.</th> <th>SUMMIT CO.</th> <th>TRUMBULL CO.</th> <th>TUSCARAWAS CO.</th> <th>UNION CO.</th> <th>VAN WERT CO.</th> <th>VINTON CO.</th> <th>WARREN CO.</th> <th>WASHINGTON CO.</th> <th>WAYNE CO.</th> <th>WOOD CO.</th> <th>WYANDOT CO.</th>\n",
       "        </tr>\n",
       "    </thead>\n",
       "    <tbody>\n",
       "        <tr>\n",
       "            <td>EF0           </td> <td>2        </td> <td>7        </td> <td>3          </td> <td>1            </td> <td>1         </td> <td>7           </td> <td>0          </td> <td>8        </td> <td>3         </td> <td>3          </td> <td>3            </td> <td>10       </td> <td>6           </td> <td>10         </td> <td>4             </td> <td>2           </td> <td>0           </td> <td>8        </td> <td>2           </td> <td>5           </td> <td>0       </td> <td>7            </td> <td>6          </td> <td>6           </td> <td>0         </td> <td>1         </td> <td>5         </td> <td>2           </td> <td>5           </td> <td>1          </td> <td>2         </td> <td>0           </td> <td>6        </td> <td>6           </td> <td>0          </td> <td>1         </td> <td>6        </td> <td>1          </td> <td>0            </td> <td>0       </td> <td>0       </td> <td>0           </td> <td>4          </td> <td>3         </td> <td>2        </td> <td>4          </td> <td>1           </td> <td>1         </td> <td>3         </td> <td>1        </td> <td>5         </td> <td>13       </td> <td>4             </td> <td>1         </td> <td>1         </td> <td>1            </td> <td>1         </td> <td>1           </td> <td>1        </td> <td>4           </td> <td>6       </td> <td>4          </td> <td>5         </td> <td>3         </td> <td>2           </td> <td>5       </td> <td>5           </td> <td>3         </td> <td>3         </td> <td>2         </td> <td>4        </td> <td>4         </td> <td>3           </td> <td>2             </td> <td>1        </td> <td>12          </td> <td>2         </td> <td>5         </td> <td>2             </td> <td>1        </td> <td>3       </td> <td>1          </td>\n",
       "        </tr>\n",
       "        <tr>\n",
       "            <td>EF1           </td> <td>3        </td> <td>1        </td> <td>3          </td> <td>2            </td> <td>1         </td> <td>3           </td> <td>2          </td> <td>5        </td> <td>2         </td> <td>3          </td> <td>0            </td> <td>6        </td> <td>4           </td> <td>0          </td> <td>2             </td> <td>1           </td> <td>2           </td> <td>6        </td> <td>1           </td> <td>0           </td> <td>1       </td> <td>3            </td> <td>1          </td> <td>3           </td> <td>1         </td> <td>3         </td> <td>4         </td> <td>0           </td> <td>0           </td> <td>0          </td> <td>2         </td> <td>0           </td> <td>3        </td> <td>4           </td> <td>1          </td> <td>3         </td> <td>7        </td> <td>0          </td> <td>4            </td> <td>1       </td> <td>1       </td> <td>1           </td> <td>2          </td> <td>2         </td> <td>3        </td> <td>1          </td> <td>1           </td> <td>1         </td> <td>5         </td> <td>1        </td> <td>0         </td> <td>3        </td> <td>5             </td> <td>0         </td> <td>3         </td> <td>4            </td> <td>1         </td> <td>3           </td> <td>2        </td> <td>5           </td> <td>5       </td> <td>1          </td> <td>2         </td> <td>2         </td> <td>2           </td> <td>1       </td> <td>2           </td> <td>0         </td> <td>2         </td> <td>0         </td> <td>2        </td> <td>2         </td> <td>5           </td> <td>3             </td> <td>0        </td> <td>6           </td> <td>4         </td> <td>1         </td> <td>0             </td> <td>4        </td> <td>3       </td> <td>0          </td>\n",
       "        </tr>\n",
       "        <tr>\n",
       "            <td>EF2           </td> <td>1        </td> <td>0        </td> <td>0          </td> <td>1            </td> <td>1         </td> <td>1           </td> <td>0          </td> <td>0        </td> <td>0         </td> <td>1          </td> <td>0            </td> <td>0        </td> <td>1           </td> <td>0          </td> <td>0             </td> <td>2           </td> <td>0           </td> <td>0        </td> <td>2           </td> <td>0           </td> <td>0       </td> <td>0            </td> <td>0          </td> <td>0           </td> <td>1         </td> <td>0         </td> <td>0         </td> <td>0           </td> <td>0           </td> <td>1          </td> <td>0         </td> <td>1           </td> <td>0        </td> <td>0           </td> <td>2          </td> <td>0         </td> <td>1        </td> <td>0          </td> <td>0            </td> <td>0       </td> <td>0       </td> <td>0           </td> <td>1          </td> <td>0         </td> <td>2        </td> <td>0          </td> <td>0           </td> <td>0         </td> <td>0         </td> <td>0        </td> <td>4         </td> <td>1        </td> <td>2             </td> <td>0         </td> <td>0         </td> <td>0            </td> <td>1         </td> <td>1           </td> <td>1        </td> <td>0           </td> <td>0       </td> <td>0          </td> <td>0         </td> <td>1         </td> <td>2           </td> <td>1       </td> <td>0           </td> <td>0         </td> <td>1         </td> <td>0         </td> <td>0        </td> <td>0         </td> <td>0           </td> <td>0             </td> <td>0        </td> <td>0           </td> <td>0         </td> <td>0         </td> <td>0             </td> <td>1        </td> <td>1       </td> <td>0          </td>\n",
       "        </tr>\n",
       "        <tr>\n",
       "            <td>EF3           </td> <td>0        </td> <td>0        </td> <td>0          </td> <td>0            </td> <td>0         </td> <td>0           </td> <td>0          </td> <td>0        </td> <td>0         </td> <td>0          </td> <td>0            </td> <td>0        </td> <td>1           </td> <td>0          </td> <td>0             </td> <td>0           </td> <td>0           </td> <td>0        </td> <td>0           </td> <td>0           </td> <td>0       </td> <td>0            </td> <td>0          </td> <td>0           </td> <td>0         </td> <td>0         </td> <td>2         </td> <td>0           </td> <td>0           </td> <td>0          </td> <td>0         </td> <td>0           </td> <td>0        </td> <td>0           </td> <td>0          </td> <td>0         </td> <td>0        </td> <td>0          </td> <td>0            </td> <td>0       </td> <td>0       </td> <td>0           </td> <td>0          </td> <td>0         </td> <td>0        </td> <td>0          </td> <td>0           </td> <td>0         </td> <td>0         </td> <td>1        </td> <td>1         </td> <td>1        </td> <td>0             </td> <td>0         </td> <td>0         </td> <td>0            </td> <td>1         </td> <td>0           </td> <td>0        </td> <td>0           </td> <td>0       </td> <td>0          </td> <td>0         </td> <td>0         </td> <td>0           </td> <td>0       </td> <td>0           </td> <td>0         </td> <td>0         </td> <td>0         </td> <td>0        </td> <td>0         </td> <td>0           </td> <td>0             </td> <td>0        </td> <td>0           </td> <td>0         </td> <td>0         </td> <td>0             </td> <td>0        </td> <td>0       </td> <td>0          </td>\n",
       "        </tr>\n",
       "        <tr>\n",
       "            <td>EF4           </td> <td>0        </td> <td>0        </td> <td>0          </td> <td>0            </td> <td>0         </td> <td>0           </td> <td>0          </td> <td>0        </td> <td>0         </td> <td>0          </td> <td>0            </td> <td>0        </td> <td>0           </td> <td>0          </td> <td>0             </td> <td>0           </td> <td>0           </td> <td>0        </td> <td>0           </td> <td>0           </td> <td>0       </td> <td>0            </td> <td>0          </td> <td>0           </td> <td>0         </td> <td>0         </td> <td>0         </td> <td>0           </td> <td>0           </td> <td>0          </td> <td>0         </td> <td>0           </td> <td>0        </td> <td>0           </td> <td>0          </td> <td>0         </td> <td>0        </td> <td>0          </td> <td>0            </td> <td>0       </td> <td>0       </td> <td>0           </td> <td>0          </td> <td>0         </td> <td>0        </td> <td>0          </td> <td>0           </td> <td>0         </td> <td>0         </td> <td>0        </td> <td>0         </td> <td>0        </td> <td>1             </td> <td>0         </td> <td>0         </td> <td>0            </td> <td>0         </td> <td>0           </td> <td>0        </td> <td>0           </td> <td>0       </td> <td>0          </td> <td>0         </td> <td>0         </td> <td>0           </td> <td>0       </td> <td>0           </td> <td>0         </td> <td>0         </td> <td>0         </td> <td>0        </td> <td>0         </td> <td>0           </td> <td>0             </td> <td>0        </td> <td>0           </td> <td>0         </td> <td>0         </td> <td>0             </td> <td>0        </td> <td>1       </td> <td>0          </td>\n",
       "        </tr>\n",
       "        <tr>\n",
       "            <td>EFU           </td> <td>0        </td> <td>0        </td> <td>0          </td> <td>0            </td> <td>0         </td> <td>0           </td> <td>1          </td> <td>0        </td> <td>0         </td> <td>0          </td> <td>0            </td> <td>1        </td> <td>0           </td> <td>0          </td> <td>0             </td> <td>0           </td> <td>0           </td> <td>0        </td> <td>0           </td> <td>0           </td> <td>0       </td> <td>0            </td> <td>0          </td> <td>0           </td> <td>0         </td> <td>0         </td> <td>0         </td> <td>0           </td> <td>0           </td> <td>0          </td> <td>0         </td> <td>0           </td> <td>0        </td> <td>0           </td> <td>0          </td> <td>0         </td> <td>0        </td> <td>0          </td> <td>0            </td> <td>0       </td> <td>0       </td> <td>0           </td> <td>0          </td> <td>0         </td> <td>0        </td> <td>0          </td> <td>0           </td> <td>0         </td> <td>0         </td> <td>0        </td> <td>0         </td> <td>0        </td> <td>0             </td> <td>0         </td> <td>0         </td> <td>0            </td> <td>0         </td> <td>0           </td> <td>0        </td> <td>0           </td> <td>0       </td> <td>0          </td> <td>0         </td> <td>0         </td> <td>0           </td> <td>0       </td> <td>0           </td> <td>0         </td> <td>0         </td> <td>0         </td> <td>0        </td> <td>0         </td> <td>0           </td> <td>0             </td> <td>0        </td> <td>3           </td> <td>0         </td> <td>0         </td> <td>0             </td> <td>0        </td> <td>0       </td> <td>0          </td>\n",
       "        </tr>\n",
       "    </tbody>\n",
       "</table>"
      ],
      "text/plain": [
       "Tornado Rating | ADAMS CO. | ALLEN CO. | ASHLAND CO. | ASHTABULA CO. | ATHENS CO. | AUGLAIZE CO. | BELMONT CO. | BROWN CO. | BUTLER CO. | CARROLL CO. | CHAMPAIGN CO. | CLARK CO. | CLERMONT CO. | CLINTON CO. | COLUMBIANA CO. | CRAWFORD CO. | CUYAHOGA CO. | DARKE CO. | DEFIANCE CO. | DELAWARE CO. | ERIE CO. | FAIRFIELD CO. | FAYETTE CO. | FRANKLIN CO. | FULTON CO. | GEAUGA CO. | GREENE CO. | GUERNSEY CO. | HAMILTON CO. | HANCOCK CO. | HARDIN CO. | HARRISON CO. | HENRY CO. | HIGHLAND CO. | HOCKING CO. | HOLMES CO. | HURON CO. | JACKSON CO. | JEFFERSON CO. | KNOX CO. | LAKE CO. | LAWRENCE CO. | LICKING CO. | LORAIN CO. | LUCAS CO. | MADISON CO. | MAHONING CO. | MARION CO. | MEDINA CO. | MEIGS CO. | MERCER CO. | MIAMI CO. | MONTGOMERY CO. | MORGAN CO. | MORROW CO. | MUSKINGUM CO. | OTTAWA CO. | PAULDING CO. | PERRY CO. | PICKAWAY CO. | PIKE CO. | PORTAGE CO. | PREBLE CO. | PUTNAM CO. | RICHLAND CO. | ROSS CO. | SANDUSKY CO. | SCIOTO CO. | SENECA CO. | SHELBY CO. | STARK CO. | SUMMIT CO. | TRUMBULL CO. | TUSCARAWAS CO. | UNION CO. | VAN WERT CO. | VINTON CO. | WARREN CO. | WASHINGTON CO. | WAYNE CO. | WOOD CO. | WYANDOT CO.\n",
       "EF0            | 2         | 7         | 3           | 1             | 1          | 7            | 0           | 8         | 3          | 3           | 3             | 10        | 6            | 10          | 4              | 2            | 0            | 8         | 2            | 5            | 0        | 7             | 6           | 6            | 0          | 1          | 5          | 2            | 5            | 1           | 2          | 0            | 6         | 6            | 0           | 1          | 6         | 1           | 0             | 0        | 0        | 0            | 4           | 3          | 2         | 4           | 1            | 1          | 3          | 1         | 5          | 13        | 4              | 1          | 1          | 1             | 1          | 1            | 1         | 4            | 6        | 4           | 5          | 3          | 2            | 5        | 5            | 3          | 3          | 2          | 4         | 4          | 3            | 2              | 1         | 12           | 2          | 5          | 2              | 1         | 3        | 1\n",
       "EF1            | 3         | 1         | 3           | 2             | 1          | 3            | 2           | 5         | 2          | 3           | 0             | 6         | 4            | 0           | 2              | 1            | 2            | 6         | 1            | 0            | 1        | 3             | 1           | 3            | 1          | 3          | 4          | 0            | 0            | 0           | 2          | 0            | 3         | 4            | 1           | 3          | 7         | 0           | 4             | 1        | 1        | 1            | 2           | 2          | 3         | 1           | 1            | 1          | 5          | 1         | 0          | 3         | 5              | 0          | 3          | 4             | 1          | 3            | 2         | 5            | 5        | 1           | 2          | 2          | 2            | 1        | 2            | 0          | 2          | 0          | 2         | 2          | 5            | 3              | 0         | 6            | 4          | 1          | 0              | 4         | 3        | 0\n",
       "EF2            | 1         | 0         | 0           | 1             | 1          | 1            | 0           | 0         | 0          | 1           | 0             | 0         | 1            | 0           | 0              | 2            | 0            | 0         | 2            | 0            | 0        | 0             | 0           | 0            | 1          | 0          | 0          | 0            | 0            | 1           | 0          | 1            | 0         | 0            | 2           | 0          | 1         | 0           | 0             | 0        | 0        | 0            | 1           | 0          | 2         | 0           | 0            | 0          | 0          | 0         | 4          | 1         | 2              | 0          | 0          | 0             | 1          | 1            | 1         | 0            | 0        | 0           | 0          | 1          | 2            | 1        | 0            | 0          | 1          | 0          | 0         | 0          | 0            | 0              | 0         | 0            | 0          | 0          | 0              | 1         | 1        | 0\n",
       "EF3            | 0         | 0         | 0           | 0             | 0          | 0            | 0           | 0         | 0          | 0           | 0             | 0         | 1            | 0           | 0              | 0            | 0            | 0         | 0            | 0            | 0        | 0             | 0           | 0            | 0          | 0          | 2          | 0            | 0            | 0           | 0          | 0            | 0         | 0            | 0           | 0          | 0         | 0           | 0             | 0        | 0        | 0            | 0           | 0          | 0         | 0           | 0            | 0          | 0          | 1         | 1          | 1         | 0              | 0          | 0          | 0             | 1          | 0            | 0         | 0            | 0        | 0           | 0          | 0          | 0            | 0        | 0            | 0          | 0          | 0          | 0         | 0          | 0            | 0              | 0         | 0            | 0          | 0          | 0              | 0         | 0        | 0\n",
       "EF4            | 0         | 0         | 0           | 0             | 0          | 0            | 0           | 0         | 0          | 0           | 0             | 0         | 0            | 0           | 0              | 0            | 0            | 0         | 0            | 0            | 0        | 0             | 0           | 0            | 0          | 0          | 0          | 0            | 0            | 0           | 0          | 0            | 0         | 0            | 0           | 0          | 0         | 0           | 0             | 0        | 0        | 0            | 0           | 0          | 0         | 0           | 0            | 0          | 0          | 0         | 0          | 0         | 1              | 0          | 0          | 0             | 0          | 0            | 0         | 0            | 0        | 0           | 0          | 0          | 0            | 0        | 0            | 0          | 0          | 0          | 0         | 0          | 0            | 0              | 0         | 0            | 0          | 0          | 0              | 0         | 1        | 0\n",
       "EFU            | 0         | 0         | 0           | 0             | 0          | 0            | 1           | 0         | 0          | 0           | 0             | 1         | 0            | 0           | 0              | 0            | 0            | 0         | 0            | 0            | 0        | 0             | 0           | 0            | 0          | 0          | 0          | 0            | 0            | 0           | 0          | 0            | 0         | 0            | 0           | 0          | 0         | 0           | 0             | 0        | 0        | 0            | 0           | 0          | 0         | 0           | 0            | 0          | 0          | 0         | 0          | 0         | 0              | 0          | 0          | 0             | 0          | 0            | 0         | 0            | 0        | 0           | 0          | 0          | 0            | 0        | 0            | 0          | 0          | 0          | 0         | 0          | 0            | 0              | 0         | 3            | 0          | 0          | 0              | 0         | 0        | 0"
      ]
     },
     "execution_count": 8,
     "metadata": {},
     "output_type": "execute_result"
    }
   ],
   "source": [
    "tor_data.pivot('CZ_NAME_STR', 'Tornado Rating') #allows me to see each counties count of tornadoes per rating, hard to determine any county that has experienced the most strongest storms"
   ]
  },
  {
   "cell_type": "code",
   "execution_count": 9,
   "id": "9edde4bb",
   "metadata": {},
   "outputs": [],
   "source": [
    "time_calc = tor_data.select('CZ_NAME_STR', 'BEGIN_TIME', 'END_TIME') #simplifying table"
   ]
  },
  {
   "cell_type": "code",
   "execution_count": 10,
   "id": "4c883a4d",
   "metadata": {},
   "outputs": [],
   "source": [
    "#calculating durations of each tornado\n",
    "from datetime import datetime, timedelta\n",
    "def duration_calc(start_time, end_time):\n",
    "    time_format = '%H%M'\n",
    "    start_time = datetime.strptime(str(start_time).zfill(4), time_format)\n",
    "    end_time = datetime.strptime(str(end_time).zfill(4), time_format)\n",
    "    \n",
    "    if end_time < start_time:\n",
    "        end_time += timedelta(days=1)\n",
    "        \n",
    "    duration = end_time - start_time\n",
    "    return duration\n",
    "\n",
    "time_calc = time_calc.with_columns('Duration', time_calc.apply(duration_calc, 'BEGIN_TIME', 'END_TIME')) #applying the function created above"
   ]
  },
  {
   "cell_type": "code",
   "execution_count": 11,
   "id": "90a49904",
   "metadata": {},
   "outputs": [
    {
     "data": {
      "text/html": [
       "<table border=\"1\" class=\"dataframe\">\n",
       "    <thead>\n",
       "        <tr>\n",
       "            <th>CZ_NAME_STR</th> <th>BEGIN_TIME</th> <th>END_TIME</th> <th>Duration</th>\n",
       "        </tr>\n",
       "    </thead>\n",
       "    <tbody>\n",
       "        <tr>\n",
       "            <td>MONTGOMERY CO.</td> <td>2141      </td> <td>2213    </td> <td>0:32:00 </td>\n",
       "        </tr>\n",
       "        <tr>\n",
       "            <td>WARREN CO.    </td> <td>203       </td> <td>231     </td> <td>0:28:00 </td>\n",
       "        </tr>\n",
       "        <tr>\n",
       "            <td>CLARK CO.     </td> <td>1723      </td> <td>1751    </td> <td>0:28:00 </td>\n",
       "        </tr>\n",
       "        <tr>\n",
       "            <td>MIAMI CO.     </td> <td>1653      </td> <td>1716    </td> <td>0:23:00 </td>\n",
       "        </tr>\n",
       "        <tr>\n",
       "            <td>STARK CO.     </td> <td>2310      </td> <td>2330    </td> <td>0:20:00 </td>\n",
       "        </tr>\n",
       "    </tbody>\n",
       "</table>"
      ],
      "text/plain": [
       "CZ_NAME_STR    | BEGIN_TIME | END_TIME | Duration\n",
       "MONTGOMERY CO. | 2141       | 2213     | 0:32:00\n",
       "WARREN CO.     | 203        | 231      | 0:28:00\n",
       "CLARK CO.      | 1723       | 1751     | 0:28:00\n",
       "MIAMI CO.      | 1653       | 1716     | 0:23:00\n",
       "STARK CO.      | 2310       | 2330     | 0:20:00"
      ]
     },
     "execution_count": 11,
     "metadata": {},
     "output_type": "execute_result"
    }
   ],
   "source": [
    "time_calc.sort('Duration', descending = True).take(range(0,5)) #getting the top 5 longest tornadoes"
   ]
  },
  {
   "cell_type": "markdown",
   "id": "2e014ae1",
   "metadata": {},
   "source": [
    "These are the top 5 counties with the longest tornadoes."
   ]
  },
  {
   "cell_type": "code",
   "execution_count": 12,
   "id": "b6f60341",
   "metadata": {},
   "outputs": [
    {
     "data": {
      "text/plain": [
       "datetime.timedelta(seconds=250, microseconds=722892)"
      ]
     },
     "execution_count": 12,
     "metadata": {},
     "output_type": "execute_result"
    }
   ],
   "source": [
    "#calculating the state tornado duration mean\n",
    "state_duration_mean = np.mean(time_calc.column('Duration'))\n",
    "state_duration_mean"
   ]
  },
  {
   "cell_type": "code",
   "execution_count": 13,
   "id": "59ff6142",
   "metadata": {},
   "outputs": [
    {
     "data": {
      "text/plain": [
       "4.166666666666667"
      ]
     },
     "execution_count": 13,
     "metadata": {},
     "output_type": "execute_result"
    }
   ],
   "source": [
    "#making the above value make more sense\n",
    "state_duration_mean_minutes = 250/60\n",
    "state_duration_mean_minutes"
   ]
  },
  {
   "cell_type": "markdown",
   "id": "2a23d21b",
   "metadata": {},
   "source": [
    "The average tornado duration is 4 minutes (units are given in data documentation: https://www.ncei.noaa.gov/pub/data/swdi/stormevents/csvfiles/Storm-Data-Bulk-csv-Format.pdf."
   ]
  },
  {
   "cell_type": "code",
   "execution_count": 14,
   "id": "ccfac78f",
   "metadata": {},
   "outputs": [
    {
     "data": {
      "text/html": [
       "<table border=\"1\" class=\"dataframe\">\n",
       "    <thead>\n",
       "        <tr>\n",
       "            <th>CZ_NAME_STR</th> <th>TOR_LENGTH</th>\n",
       "        </tr>\n",
       "    </thead>\n",
       "    <tbody>\n",
       "        <tr>\n",
       "            <td>WARREN CO.    </td> <td>20.7      </td>\n",
       "        </tr>\n",
       "        <tr>\n",
       "            <td>MONTGOMERY CO.</td> <td>18.17     </td>\n",
       "        </tr>\n",
       "        <tr>\n",
       "            <td>RICHLAND CO.  </td> <td>17        </td>\n",
       "        </tr>\n",
       "        <tr>\n",
       "            <td>CLARK CO.     </td> <td>16.92     </td>\n",
       "        </tr>\n",
       "        <tr>\n",
       "            <td>STARK CO.     </td> <td>14.49     </td>\n",
       "        </tr>\n",
       "        <tr>\n",
       "            <td>HIGHLAND CO.  </td> <td>14.16     </td>\n",
       "        </tr>\n",
       "        <tr>\n",
       "            <td>MIAMI CO.     </td> <td>13.75     </td>\n",
       "        </tr>\n",
       "        <tr>\n",
       "            <td>MIAMI CO.     </td> <td>12.78     </td>\n",
       "        </tr>\n",
       "        <tr>\n",
       "            <td>TRUMBULL CO.  </td> <td>12.27     </td>\n",
       "        </tr>\n",
       "        <tr>\n",
       "            <td>WAYNE CO.     </td> <td>11.47     </td>\n",
       "        </tr>\n",
       "    </tbody>\n",
       "</table>\n",
       "<p>... (488 rows omitted)</p>"
      ],
      "text/plain": [
       "CZ_NAME_STR    | TOR_LENGTH\n",
       "WARREN CO.     | 20.7\n",
       "MONTGOMERY CO. | 18.17\n",
       "RICHLAND CO.   | 17\n",
       "CLARK CO.      | 16.92\n",
       "STARK CO.      | 14.49\n",
       "HIGHLAND CO.   | 14.16\n",
       "MIAMI CO.      | 13.75\n",
       "MIAMI CO.      | 12.78\n",
       "TRUMBULL CO.   | 12.27\n",
       "WAYNE CO.      | 11.47\n",
       "... (488 rows omitted)"
      ]
     },
     "execution_count": 14,
     "metadata": {},
     "output_type": "execute_result"
    }
   ],
   "source": [
    "#creating and sorting table to see the longest tornadoes\n",
    "tor_length = tor_data.sort('TOR_LENGTH', descending = True).select('CZ_NAME_STR', 'TOR_LENGTH')\n",
    "tor_length"
   ]
  },
  {
   "cell_type": "markdown",
   "id": "4acc56c3",
   "metadata": {},
   "source": [
    "The distance is in miles to the nearest tenth of a mile. So the longest tornado was in Warren County."
   ]
  },
  {
   "cell_type": "code",
   "execution_count": 15,
   "id": "9ca27c8d",
   "metadata": {},
   "outputs": [
    {
     "data": {
      "text/plain": [
       "2.5530923694779113"
      ]
     },
     "execution_count": 15,
     "metadata": {},
     "output_type": "execute_result"
    }
   ],
   "source": [
    "#determining the average state tornado length\n",
    "state_average_tornado_length = np.mean(tor_length.column('TOR_LENGTH'))\n",
    "state_average_tornado_length"
   ]
  },
  {
   "cell_type": "markdown",
   "id": "e07efb62",
   "metadata": {},
   "source": [
    "This is also in miles based on the data documentation (https://www.ncei.noaa.gov/pub/data/swdi/stormevents/csvfiles/Storm-Data-Bulk-csv-Format.pdf). So the average distance traveled by a tornado in Ohio is 2.5 miles."
   ]
  },
  {
   "cell_type": "code",
   "execution_count": 16,
   "id": "991215e4",
   "metadata": {},
   "outputs": [],
   "source": [
    "time_calc = time_calc.with_column(\"Duration_num\", time_calc.apply(lambda x: x.total_seconds(), 'Duration'))"
   ]
  },
  {
   "cell_type": "code",
   "execution_count": 17,
   "id": "4cf53727",
   "metadata": {},
   "outputs": [
    {
     "data": {
      "text/plain": [
       "0.42094967746022982"
      ]
     },
     "execution_count": 17,
     "metadata": {},
     "output_type": "execute_result"
    }
   ],
   "source": [
    "#seeing if there is any correlation between tornado width and duration\n",
    "r_width_duration = np.corrcoef(tor_data.column('TOR_WIDTH'), \n",
    "                        time_calc.column('Duration_num'))\n",
    "r_width_duration[0,1]"
   ]
  },
  {
   "cell_type": "markdown",
   "id": "710e9c14",
   "metadata": {},
   "source": [
    "Based on this value there is a weak positive correlation between the width and duration of a tornado."
   ]
  },
  {
   "cell_type": "code",
   "execution_count": 18,
   "id": "c525a998",
   "metadata": {},
   "outputs": [
    {
     "data": {
      "text/plain": [
       "0.87273324483614134"
      ]
     },
     "execution_count": 18,
     "metadata": {},
     "output_type": "execute_result"
    }
   ],
   "source": [
    "#seeing if there is any correlation between tornado length and duration\n",
    "r_length_duration = np.corrcoef(tor_data.column('TOR_LENGTH'), \n",
    "                        time_calc.column('Duration_num'))\n",
    "r_length_duration[0,1]"
   ]
  },
  {
   "cell_type": "markdown",
   "id": "ab0520dc",
   "metadata": {},
   "source": [
    "Based on this value there is a pretty strong positive correlation between length the tornado traveled and its duration, which makes sense because a tornado would be able to travel longer if it was on the ground longer."
   ]
  },
  {
   "cell_type": "code",
   "execution_count": 53,
   "id": "9ed7e1b4",
   "metadata": {},
   "outputs": [
    {
     "data": {
      "text/plain": [
       "0.0"
      ]
     },
     "execution_count": 53,
     "metadata": {},
     "output_type": "execute_result"
    }
   ],
   "source": [
    "#function that will allow us to calculate the difference between points to help with our classify function\n",
    "def distance(arr1, arr2):\n",
    "    squared_dif = make_array()\n",
    "    for i in range(len(arr1)):\n",
    "        value = (arr1[i]-arr2[i]) ** 2\n",
    "        squared_dif = np.append(squared_dif, value)\n",
    "        return np.sqrt(sum(squared_dif))\n",
    "\n",
    "#shuffling and and splitting our data into a train and test set\n",
    "tor_short = tor_data.select('CZ_NAME_STR', 'Tornado Rating', 'DAMAGE_PROPERTY_NUM', 'TOR_LENGTH', 'TOR_WIDTH')\n",
    "tor_short_shuffled = tor_short.shuffle()\n",
    "tor_train = tor_short_shuffled.take(range(0, 400))\n",
    "tor_test = tor_short_shuffled.take(range(400, 498))\n",
    "\n",
    "#the features that I want to use to try and use to determine if they can predict the the rating\n",
    "features = make_array('DAMAGE_PROPERTY_NUM', 'TOR_LENGTH', 'TOR_WIDTH')\n",
    "\n",
    "#turning each row in the column into an array for classification function\n",
    "def row_to_array(row, features):\n",
    "    arr = make_array()\n",
    "    for features in features:\n",
    "        arr = np.append(arr, row.item(features))\n",
    "    return arr\n",
    "\n",
    "#classification function using distance between features in the training set\n",
    "def classify(row, k, tor_train):\n",
    "    test_row_features_array = row_to_array(row, features)\n",
    "    distances = make_array()\n",
    "    for train_row in tor_train.rows:\n",
    "        train_row_features_array = row_to_array(train_row, features)\n",
    "        row_distance = distance(train_row_features_array, test_row_features_array)\n",
    "        distances = np.append(distances, row_distance)\n",
    "    tor_train_with_distances = tor_train.with_column('Distance', distances)\n",
    "    nearest_neighbors = tor_train_with_distances.sort('Distance', descending=False).take(range(0,k))\n",
    "    most_common_label = max(nearest_neighbors.column('Tornado Rating'))\n",
    "    return str(most_common_label)\n",
    "\n",
    "#setting k=11 to determine to classify all rows in the train set\n",
    "def eleven_classify(row):\n",
    "    return classify(row, 11, tor_train)\n",
    "\n",
    "#adding the guesses/predictions to the test table\n",
    "tor_test_with_guess = tor_test.with_column('Prediction', tor_test.apply(eleven_classify))  \n",
    "tor_test_with_guess\n",
    "\n",
    "#determining the accuracy of this machine learning classification model\n",
    "label_correct = tor_test_with_guess.where('Tornado Rating', 'Prediction').num_rows\n",
    "label_correct\n",
    "tor_test.num_rows\n",
    "accuracy = label_correct / tor_test.num_rows\n",
    "accuracy"
   ]
  },
  {
   "cell_type": "markdown",
   "id": "fce6d787",
   "metadata": {},
   "source": [
    "As we can see from the model I ran we cannot use property damage cost, tornado length, and width to try and predict EF rating. This honestly makes sense since it is so subjective to the NWS employees out performing the damage surveys. Furthermore, they have to consider the construction quality of the house, so even if it was flattened, poor construction will still result in the EF rating being lower. "
   ]
  },
  {
   "cell_type": "code",
   "execution_count": null,
   "id": "a7d7d3a8",
   "metadata": {},
   "outputs": [],
   "source": []
  }
 ],
 "metadata": {
  "kernelspec": {
   "display_name": "Python 3 (ipykernel)",
   "language": "python",
   "name": "python3"
  },
  "language_info": {
   "codemirror_mode": {
    "name": "ipython",
    "version": 3
   },
   "file_extension": ".py",
   "mimetype": "text/x-python",
   "name": "python",
   "nbconvert_exporter": "python",
   "pygments_lexer": "ipython3",
   "version": "3.11.7"
  }
 },
 "nbformat": 4,
 "nbformat_minor": 5
}
